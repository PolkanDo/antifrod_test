{
 "cells": [
  {
   "cell_type": "code",
   "execution_count": 21,
   "id": "cfd076ba",
   "metadata": {},
   "outputs": [],
   "source": [
    "import pandas as pd\n",
    "import numpy as np\n",
    "\n",
    "\n",
    "book = pd.read_excel('test.xlsx', sheet_name='sheet1')"
   ]
  },
  {
   "cell_type": "markdown",
   "id": "95c7e6a0",
   "metadata": {},
   "source": [
    "Реакция на колличество аккаунтов, привязанных к одному Customer ID"
   ]
  },
  {
   "cell_type": "code",
   "execution_count": 22,
   "id": "89027ab5",
   "metadata": {},
   "outputs": [],
   "source": [
    "cb_1 = book.groupby(['Customer ID'])['Account Number'].nunique()\n",
    "cb_1 = cb_1.reset_index()\n",
    "\n",
    "conditions_1 = [\n",
    "    (cb_1['Account Number'] < 2),\n",
    "    (cb_1['Account Number'] == 2),\n",
    "    (cb_1['Account Number'] == 3),\n",
    "    (cb_1['Account Number'] == 4),\n",
    "    (cb_1['Account Number'] > 4),\n",
    "]\n",
    "\n",
    "values_1 = [0, 10, 20, 30, 50]\n",
    "\n",
    "cb_1['estimation_1'] = np.select(conditions_1, values_1)"
   ]
  },
  {
   "cell_type": "markdown",
   "id": "4c20d212",
   "metadata": {},
   "source": [
    "Реакция на колличество попыток оплат на уникальные суммы в сутки с одного Customer ID"
   ]
  },
  {
   "cell_type": "code",
   "execution_count": 23,
   "id": "a347ffe7",
   "metadata": {},
   "outputs": [],
   "source": [
    "cb_2 = book.groupby(['Customer ID', 'Operation created at Date'])['Channel Amount'].nunique()\n",
    "cb_2 = cb_2.reset_index()\n",
    "cb_2 = cb_2.groupby(['Customer ID'])['Channel Amount'].sum()\n",
    "cb_2 = cb_2.reset_index()\n",
    "\n",
    "conditions_2 = [\n",
    "    (cb_2['Channel Amount'] < 3),\n",
    "    (cb_2['Channel Amount'] < 6),\n",
    "    (cb_2['Channel Amount'] < 9),\n",
    "    (cb_2['Channel Amount'] < 11),\n",
    "    (cb_2['Channel Amount'] >= 11),\n",
    "]\n",
    "\n",
    "values_2 = [0, 10, 20, 30, 50]\n",
    "\n",
    "cb_2['estimation_2'] = np.select(conditions_2, values_2)"
   ]
  },
  {
   "cell_type": "markdown",
   "id": "9c51cc54",
   "metadata": {},
   "source": [
    "Реакция на колличество Email, привязанных к Customer ID"
   ]
  },
  {
   "cell_type": "code",
   "execution_count": 24,
   "id": "9c522fe8",
   "metadata": {},
   "outputs": [],
   "source": [
    "cb_3 = book.groupby(['Customer ID'])['Customer IP V4 V6'].nunique()\n",
    "cb_3 = cb_3.reset_index()\n",
    "\n",
    "conditions_3 = [\n",
    "    (cb_3['Customer IP V4 V6'] < 3),\n",
    "    (cb_3['Customer IP V4 V6'] < 4),\n",
    "    (cb_3['Customer IP V4 V6'] < 5),\n",
    "    (cb_3['Customer IP V4 V6'] >= 5),\n",
    "]\n",
    "\n",
    "values_3 = [0, 10, 20, 50]\n",
    "\n",
    "cb_3['estimation_3'] = np.select(conditions_3, values_3)"
   ]
  },
  {
   "cell_type": "markdown",
   "id": "b170f02f",
   "metadata": {},
   "source": [
    "Реакция на операции, в которых замечено несоответствие страны карты эмитента со страной по IP относительно Customer ID"
   ]
  },
  {
   "cell_type": "code",
   "execution_count": 25,
   "id": "6604cc0c",
   "metadata": {},
   "outputs": [],
   "source": [
    "cb_4 = book\n",
    "cb_4['Compare'] = cb_4['Issuer Country Name'] != cb_4['Country By IP Name']\n",
    "cb_4 = cb_4[['Customer ID', 'Issuer Country Name', 'Country By IP Name', 'Compare']]\n",
    "cb_4 = cb_4.groupby(['Customer ID'])['Compare'].sum()\n",
    "cb_4 = cb_4.reset_index()\n",
    "conditions_4 = [\n",
    "    (cb_4['Compare'] < 4),\n",
    "    (cb_4['Compare'] < 6),\n",
    "    (cb_4['Compare'] < 8),\n",
    "    (cb_4['Compare'] >= 8),\n",
    "]\n",
    "\n",
    "values_4 = [0, 20, 30, 50]\n",
    "\n",
    "cb_4['estimation_4'] = np.select(conditions_4, values_4)"
   ]
  },
  {
   "cell_type": "markdown",
   "id": "673608ed",
   "metadata": {},
   "source": [
    "Подведение финальных расчетов и вывод их в таблицу"
   ]
  },
  {
   "cell_type": "code",
   "execution_count": 26,
   "id": "fd7c3276",
   "metadata": {},
   "outputs": [],
   "source": [
    "cb_a = pd.merge(cb_1, cb_2)\n",
    "cb_b = pd.merge(cb_3, cb_4)\n",
    "cb = pd.merge(cb_a, cb_b)\n",
    "cb['Full Estimation'] = cb[['estimation_1','estimation_2','estimation_3','estimation_4']].sum(axis=1)\n",
    "cb = cb.loc[cb['Full Estimation'] > 50]\n",
    "cb = cb.sort_values(\"Full Estimation\", ascending=False)\n",
    "cb = cb.sort_values(\"Full Estimation\", ascending=False)\n",
    "cb_1 = cb.loc[(50 < cb['Full Estimation']) & (cb['Full Estimation'] < 100)]\n",
    "cb_2 = cb.loc[100 < cb['Full Estimation']]\n",
    "\n",
    "with pd.ExcelWriter(\"finall_output_1.xlsx\") as writer:\n",
    "    cb_1.to_excel(writer, sheet_name=\"Suspicion\", index=False)\n",
    "    cb_2.to_excel(writer, sheet_name=\"Fraud\", index=False)"
   ]
  },
  {
   "cell_type": "code",
   "execution_count": null,
   "id": "94b67965",
   "metadata": {},
   "outputs": [],
   "source": []
  }
 ],
 "metadata": {
  "kernelspec": {
   "display_name": "Python 3 (ipykernel)",
   "language": "python",
   "name": "python3"
  },
  "language_info": {
   "codemirror_mode": {
    "name": "ipython",
    "version": 3
   },
   "file_extension": ".py",
   "mimetype": "text/x-python",
   "name": "python",
   "nbconvert_exporter": "python",
   "pygments_lexer": "ipython3",
   "version": "3.9.0"
  }
 },
 "nbformat": 4,
 "nbformat_minor": 5
}
